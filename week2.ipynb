{
  "nbformat": 4,
  "nbformat_minor": 0,
  "metadata": {
    "colab": {
      "provenance": []
    },
    "kernelspec": {
      "name": "python3",
      "display_name": "Python 3"
    },
    "language_info": {
      "name": "python"
    }
  },
  "cells": [
    {
      "cell_type": "code",
      "source": [
        "#hide\n",
        "! [ -e /content ] && pip install -Uqq fastbook\n",
        "import fastbook\n",
        "fastbook.setup_book()\n",
        "\n",
        "\n",
        "#hide\n",
        "from fastbook import *"
      ],
      "metadata": {
        "id": "h7nG0WBCqsxo",
        "colab": {
          "base_uri": "https://localhost:8080/"
        },
        "outputId": "1da250fa-bce2-4f0f-9ec6-e84303a50847"
      },
      "execution_count": 1,
      "outputs": [
        {
          "output_type": "stream",
          "name": "stdout",
          "text": [
            "\u001b[2K     \u001b[90m━━━━━━━━━━━━━━━━━━━━━━━━━━━━━━━━━━━━━━\u001b[0m \u001b[32m719.8/719.8 kB\u001b[0m \u001b[31m27.9 MB/s\u001b[0m eta \u001b[36m0:00:00\u001b[0m\n",
            "\u001b[2K     \u001b[90m━━━━━━━━━━━━━━━━━━━━━━━━━━━━━━━━━━━━━━━━\u001b[0m \u001b[32m7.2/7.2 MB\u001b[0m \u001b[31m65.3 MB/s\u001b[0m eta \u001b[36m0:00:00\u001b[0m\n",
            "\u001b[2K     \u001b[90m━━━━━━━━━━━━━━━━━━━━━━━━━━━━━━━━━━━━━━\u001b[0m \u001b[32m486.2/486.2 kB\u001b[0m \u001b[31m36.8 MB/s\u001b[0m eta \u001b[36m0:00:00\u001b[0m\n",
            "\u001b[2K     \u001b[90m━━━━━━━━━━━━━━━━━━━━━━━━━━━━━━━━━━━━━━━━\u001b[0m \u001b[32m1.3/1.3 MB\u001b[0m \u001b[31m42.6 MB/s\u001b[0m eta \u001b[36m0:00:00\u001b[0m\n",
            "\u001b[2K     \u001b[90m━━━━━━━━━━━━━━━━━━━━━━━━━━━━━━━━━━━━━━\u001b[0m \u001b[32m110.5/110.5 kB\u001b[0m \u001b[31m11.0 MB/s\u001b[0m eta \u001b[36m0:00:00\u001b[0m\n",
            "\u001b[2K     \u001b[90m━━━━━━━━━━━━━━━━━━━━━━━━━━━━━━━━━━━━━━\u001b[0m \u001b[32m212.5/212.5 kB\u001b[0m \u001b[31m23.2 MB/s\u001b[0m eta \u001b[36m0:00:00\u001b[0m\n",
            "\u001b[2K     \u001b[90m━━━━━━━━━━━━━━━━━━━━━━━━━━━━━━━━━━━━━━\u001b[0m \u001b[32m134.3/134.3 kB\u001b[0m \u001b[31m12.5 MB/s\u001b[0m eta \u001b[36m0:00:00\u001b[0m\n",
            "\u001b[2K     \u001b[90m━━━━━━━━━━━━━━━━━━━━━━━━━━━━━━━━━━━━━━\u001b[0m \u001b[32m236.8/236.8 kB\u001b[0m \u001b[31m25.1 MB/s\u001b[0m eta \u001b[36m0:00:00\u001b[0m\n",
            "\u001b[2K     \u001b[90m━━━━━━━━━━━━━━━━━━━━━━━━━━━━━━━━━━━━━━━━\u001b[0m \u001b[32m7.8/7.8 MB\u001b[0m \u001b[31m78.4 MB/s\u001b[0m eta \u001b[36m0:00:00\u001b[0m\n",
            "\u001b[2K     \u001b[90m━━━━━━━━━━━━━━━━━━━━━━━━━━━━━━━━━━━━━━━━\u001b[0m \u001b[32m1.3/1.3 MB\u001b[0m \u001b[31m61.0 MB/s\u001b[0m eta \u001b[36m0:00:00\u001b[0m\n",
            "\u001b[2K     \u001b[90m━━━━━━━━━━━━━━━━━━━━━━━━━━━━━━━━━━━━━━━━\u001b[0m \u001b[32m1.6/1.6 MB\u001b[0m \u001b[31m62.3 MB/s\u001b[0m eta \u001b[36m0:00:00\u001b[0m\n",
            "\u001b[?25hMounted at /content/gdrive\n"
          ]
        }
      ]
    },
    {
      "cell_type": "code",
      "source": [
        "from fastai.vision.all import *\n",
        "path = untar_data(URLs.PASCAL_2007)"
      ],
      "metadata": {
        "id": "qOjZNDgJq82y",
        "colab": {
          "base_uri": "https://localhost:8080/",
          "height": 37
        },
        "outputId": "2fec0030-c251-4e8d-dfc9-ec51dfb87f02"
      },
      "execution_count": null,
      "outputs": [
        {
          "output_type": "display_data",
          "data": {
            "text/plain": [
              "<IPython.core.display.HTML object>"
            ],
            "text/html": [
              "\n",
              "<style>\n",
              "    /* Turns off some styling */\n",
              "    progress {\n",
              "        /* gets rid of default border in Firefox and Opera. */\n",
              "        border: none;\n",
              "        /* Needs to be in here for Safari polyfill so background images work as expected. */\n",
              "        background-size: auto;\n",
              "    }\n",
              "    progress:not([value]), progress:not([value])::-webkit-progress-bar {\n",
              "        background: repeating-linear-gradient(45deg, #7e7e7e, #7e7e7e 10px, #5c5c5c 10px, #5c5c5c 20px);\n",
              "    }\n",
              "    .progress-bar-interrupted, .progress-bar-interrupted::-webkit-progress-bar {\n",
              "        background: #F44336;\n",
              "    }\n",
              "</style>\n"
            ]
          },
          "metadata": {}
        },
        {
          "output_type": "display_data",
          "data": {
            "text/plain": [
              "<IPython.core.display.HTML object>"
            ],
            "text/html": [
              "\n",
              "    <div>\n",
              "      <progress value='1637801984' class='' max='1637796771' style='width:300px; height:20px; vertical-align: middle;'></progress>\n",
              "      100.00% [1637801984/1637796771 00:26&lt;00:00]\n",
              "    </div>\n",
              "    "
            ]
          },
          "metadata": {}
        }
      ]
    },
    {
      "cell_type": "code",
      "source": [
        "df = pd.read_csv(path/'train.csv')\n",
        "df.head()"
      ],
      "metadata": {
        "id": "z6T2sDJiq_I4"
      },
      "execution_count": null,
      "outputs": []
    },
    {
      "cell_type": "code",
      "source": [
        "df.iloc[:,0]"
      ],
      "metadata": {
        "id": "C9I57dZGrFb-"
      },
      "execution_count": null,
      "outputs": []
    },
    {
      "cell_type": "code",
      "source": [
        "df.iloc[0,:]\n",
        "# Trailing :s are always optional (in numpy, pytorch, pandas, etc.),\n",
        "#   so this is equivalent:\n",
        "df.iloc[0]"
      ],
      "metadata": {
        "id": "Je3_hUogrIu5"
      },
      "execution_count": null,
      "outputs": []
    },
    {
      "cell_type": "code",
      "source": [
        "\n",
        "df['fname']"
      ],
      "metadata": {
        "id": "yaUrGbfDrM1Q"
      },
      "execution_count": null,
      "outputs": []
    },
    {
      "cell_type": "code",
      "source": [
        "tmp_df = pd.DataFrame({'a':[1,2], 'b':[3,4]})\n",
        "tmp_df"
      ],
      "metadata": {
        "id": "Bd-t5Bk-rP3l"
      },
      "execution_count": null,
      "outputs": []
    },
    {
      "cell_type": "code",
      "source": [
        "tmp_df['c'] = tmp_df['a']+tmp_df['b']\n",
        "tmp_df"
      ],
      "metadata": {
        "id": "CId6WistrS0n"
      },
      "execution_count": null,
      "outputs": []
    },
    {
      "cell_type": "code",
      "source": [
        "\n",
        "dblock = DataBlock()\n",
        "\n",
        "\n",
        "dsets = dblock.datasets(df)\n",
        "\n",
        "\n",
        "\n",
        "len(dsets.train),len(dsets.valid)\n",
        "\n",
        "(4009, 1002)\n",
        "\n",
        "x,y = dsets.train[0]\n",
        "x,y"
      ],
      "metadata": {
        "id": "CSjRDp7erVUb"
      },
      "execution_count": null,
      "outputs": []
    },
    {
      "cell_type": "code",
      "source": [
        "x['fname']\n"
      ],
      "metadata": {
        "id": "zlBHx2uertcw"
      },
      "execution_count": null,
      "outputs": []
    },
    {
      "cell_type": "code",
      "source": [
        "dblock = DataBlock(get_x = lambda r: r['fname'], get_y = lambda r: r['labels'])\n",
        "dsets = dblock.datasets(df)\n",
        "dsets.train[0]\n"
      ],
      "metadata": {
        "id": "4Y8N0o2Lr0HW"
      },
      "execution_count": null,
      "outputs": []
    },
    {
      "cell_type": "code",
      "source": [
        "def get_x(r): return r['fname']\n",
        "def get_y(r): return r['labels']\n",
        "dblock = DataBlock(get_x = get_x, get_y = get_y)\n",
        "dsets = dblock.datasets(df)\n",
        "dsets.train[0]"
      ],
      "metadata": {
        "id": "scv9DLZFr3zC"
      },
      "execution_count": null,
      "outputs": []
    },
    {
      "cell_type": "code",
      "source": [
        "def get_x(r): return path/'train'/r['fname']\n",
        "def get_y(r): return r['labels'].split(' ')\n",
        "dblock = DataBlock(get_x = get_x, get_y = get_y)\n",
        "dsets = dblock.datasets(df)\n",
        "dsets.train[0]"
      ],
      "metadata": {
        "id": "KbsbgV9Wr7LS"
      },
      "execution_count": null,
      "outputs": []
    },
    {
      "cell_type": "code",
      "source": [
        "\n",
        "dblock = DataBlock(blocks=(ImageBlock, MultiCategoryBlock),\n",
        "                   get_x = get_x, get_y = get_y)\n",
        "dsets = dblock.datasets(df)\n",
        "dsets.train[0]"
      ],
      "metadata": {
        "id": "NOOGVe7_r--T"
      },
      "execution_count": null,
      "outputs": []
    },
    {
      "cell_type": "code",
      "source": [
        "idxs = torch.where(dsets.train[0][1]==1.)[0]\n",
        "dsets.train.vocab[idxs]"
      ],
      "metadata": {
        "id": "5SNJrvwisC-A"
      },
      "execution_count": null,
      "outputs": []
    },
    {
      "cell_type": "code",
      "source": [
        "def splitter(df):\n",
        "    train = df.index[~df['is_valid']].tolist()\n",
        "    valid = df.index[df['is_valid']].tolist()\n",
        "    return train,valid\n",
        "\n",
        "dblock = DataBlock(blocks=(ImageBlock, MultiCategoryBlock),\n",
        "                   splitter=splitter,\n",
        "                   get_x=get_x,\n",
        "                   get_y=get_y)\n",
        "\n",
        "dsets = dblock.datasets(df)\n",
        "dsets.train[0]"
      ],
      "metadata": {
        "id": "YYliYK00sGh1"
      },
      "execution_count": null,
      "outputs": []
    },
    {
      "cell_type": "code",
      "source": [
        "dblock = DataBlock(blocks=(ImageBlock, MultiCategoryBlock),\n",
        "                   splitter=splitter,\n",
        "                   get_x=get_x,\n",
        "                   get_y=get_y,\n",
        "                   item_tfms = RandomResizedCrop(128, min_scale=0.35))\n",
        "dls = dblock.dataloaders(df)"
      ],
      "metadata": {
        "id": "69wjr3-osJs6"
      },
      "execution_count": null,
      "outputs": []
    },
    {
      "cell_type": "code",
      "source": [
        "learn = vision_learner(dls, resnet18)"
      ],
      "metadata": {
        "id": "vH00uBkjsMSa"
      },
      "execution_count": null,
      "outputs": []
    },
    {
      "cell_type": "code",
      "source": [
        "x,y = to_cpu(dls.train.one_batch())\n",
        "activs = learn.model(x)\n",
        "activs.shape"
      ],
      "metadata": {
        "id": "KXSo1XnZsQlz"
      },
      "execution_count": null,
      "outputs": []
    },
    {
      "cell_type": "code",
      "source": [
        "\n",
        "activs[0]"
      ],
      "metadata": {
        "id": "jvEqorJWsTOm"
      },
      "execution_count": null,
      "outputs": []
    },
    {
      "cell_type": "code",
      "source": [
        "def binary_cross_entropy(inputs, targets):\n",
        "    inputs = inputs.sigmoid()\n",
        "    return -torch.where(targets==1, inputs, 1-inputs).log().mean()\n"
      ],
      "metadata": {
        "id": "7qPwxkwXsWsr"
      },
      "execution_count": null,
      "outputs": []
    },
    {
      "cell_type": "code",
      "source": [
        "loss_func = nn.BCEWithLogitsLoss()\n",
        "loss = loss_func(activs, y)\n",
        "loss"
      ],
      "metadata": {
        "id": "0iCtCwuXsagn"
      },
      "execution_count": null,
      "outputs": []
    },
    {
      "cell_type": "code",
      "source": [
        "def say_hello(name, say_what=\"Hello\"): return f\"{say_what} {name}.\"\n",
        "say_hello('Jeremy'),say_hello('Jeremy', 'Ahoy!')"
      ],
      "metadata": {
        "id": "H8lRbGPvsdTS"
      },
      "execution_count": null,
      "outputs": []
    },
    {
      "cell_type": "code",
      "source": [
        "\n",
        "f = partial(say_hello, say_what=\"Bonjour\")\n",
        "f(\"Jeremy\"),f(\"Sylvain\")"
      ],
      "metadata": {
        "id": "32HHYos0siAQ"
      },
      "execution_count": null,
      "outputs": []
    },
    {
      "cell_type": "code",
      "source": [
        "learn = vision_learner(dls, resnet50, metrics=partial(accuracy_multi, thresh=0.2))\n",
        "learn.fine_tune(3, base_lr=3e-3, freeze_epochs=4)\n"
      ],
      "metadata": {
        "id": "k-zaUBPpskis"
      },
      "execution_count": null,
      "outputs": []
    },
    {
      "cell_type": "code",
      "source": [
        "\n",
        "learn.metrics = partial(accuracy_multi, thresh=0.1)\n",
        "learn.validate()"
      ],
      "metadata": {
        "id": "JjWM4fZRssJY"
      },
      "execution_count": null,
      "outputs": []
    },
    {
      "cell_type": "code",
      "source": [
        "\n",
        "learn.metrics = partial(accuracy_multi, thresh=0.99)\n",
        "learn.validate()"
      ],
      "metadata": {
        "id": "4lgWHkwlswmr"
      },
      "execution_count": null,
      "outputs": []
    },
    {
      "cell_type": "code",
      "source": [
        "preds,targs = learn.get_preds()\n",
        "\n"
      ],
      "metadata": {
        "id": "yU7LELrVszEG"
      },
      "execution_count": null,
      "outputs": []
    },
    {
      "cell_type": "code",
      "source": [
        "\n",
        "accuracy_multi(preds, targs, thresh=0.9, sigmoid=False)"
      ],
      "metadata": {
        "id": "E_9BvgHHs2c8"
      },
      "execution_count": null,
      "outputs": []
    },
    {
      "cell_type": "code",
      "source": [
        "\n",
        "xs = torch.linspace(0.05,0.95,29)\n",
        "accs = [accuracy_multi(preds, targs, thresh=i, sigmoid=False) for i in xs]\n",
        "plt.plot(xs,accs);"
      ],
      "metadata": {
        "id": "LTCFgwPTs4oH"
      },
      "execution_count": null,
      "outputs": []
    },
    {
      "cell_type": "code",
      "source": [
        "path = untar_data(URLs.BIWI_HEAD_POSE)\n",
        "\n",
        "#hide\n",
        "Path.BASE_PATH = path\n",
        "path.ls().sorted()"
      ],
      "metadata": {
        "id": "ExP2hlq0s7YP"
      },
      "execution_count": null,
      "outputs": []
    },
    {
      "cell_type": "code",
      "source": [
        "(path/'01').ls().sorted()"
      ],
      "metadata": {
        "id": "04uCmqJ7taeo"
      },
      "execution_count": null,
      "outputs": []
    },
    {
      "cell_type": "code",
      "source": [
        "img_files = get_image_files(path)\n",
        "def img2pose(x): return Path(f'{str(x)[:-7]}pose.txt')\n",
        "img2pose(img_files[0])"
      ],
      "metadata": {
        "id": "Su2Gq-1tthBu"
      },
      "execution_count": null,
      "outputs": []
    },
    {
      "cell_type": "code",
      "source": [
        "\n",
        "im = PILImage.create(img_files[0])\n",
        "im.shape"
      ],
      "metadata": {
        "id": "CjF1JNvGtjhO"
      },
      "execution_count": null,
      "outputs": []
    },
    {
      "cell_type": "code",
      "source": [
        "im.to_thumb(160)"
      ],
      "metadata": {
        "id": "3dTs8yHQtmkq"
      },
      "execution_count": null,
      "outputs": []
    },
    {
      "cell_type": "code",
      "source": [
        "cal = np.genfromtxt(path/'01'/'rgb.cal', skip_footer=6)\n",
        "def get_ctr(f):\n",
        "    ctr = np.genfromtxt(img2pose(f), skip_header=3)\n",
        "    c1 = ctr[0] * cal[0][0]/ctr[2] + cal[0][2]\n",
        "    c2 = ctr[1] * cal[1][1]/ctr[2] + cal[1][2]\n",
        "    return tensor([c1,c2])"
      ],
      "metadata": {
        "id": "wyH7gPY4tubk"
      },
      "execution_count": null,
      "outputs": []
    },
    {
      "cell_type": "code",
      "source": [
        "get_ctr(img_files[0])"
      ],
      "metadata": {
        "id": "SWctX_Rct57K"
      },
      "execution_count": null,
      "outputs": []
    },
    {
      "cell_type": "code",
      "source": [
        "biwi = DataBlock(\n",
        "    blocks=(ImageBlock, PointBlock),\n",
        "    get_items=get_image_files,\n",
        "    get_y=get_ctr,\n",
        "    splitter=FuncSplitter(lambda o: o.parent.name=='13'),\n",
        "    batch_tfms=aug_transforms(size=(240,320)),"
      ],
      "metadata": {
        "id": "9jVGgLN1t6k8"
      },
      "execution_count": null,
      "outputs": []
    },
    {
      "cell_type": "code",
      "source": [
        "\n",
        "dls = biwi.dataloaders(path)\n",
        "dls.show_batch(max_n=9, figsize=(8,6))"
      ],
      "metadata": {
        "id": "hWkgbBW1t91S"
      },
      "execution_count": null,
      "outputs": []
    },
    {
      "cell_type": "code",
      "source": [
        "\n",
        "xb,yb = dls.one_batch()\n",
        "xb.shape,yb.shape"
      ],
      "metadata": {
        "id": "m6i_Q9CkuAr2"
      },
      "execution_count": null,
      "outputs": []
    },
    {
      "cell_type": "code",
      "source": [
        "\n",
        "yb[0]"
      ],
      "metadata": {
        "id": "JV4qAr4kuDqv"
      },
      "execution_count": null,
      "outputs": []
    },
    {
      "cell_type": "code",
      "source": [
        "learn = vision_learner(dls, resnet18, y_range=(-1,1))\n",
        "\n",
        "def sigmoid_range(x, lo, hi): return torch.sigmoid(x) * (hi-lo) + lo\n",
        "\n",
        "\n",
        "plot_function(partial(sigmoid_range,lo=-1,hi=1), min=-4, max=4)"
      ],
      "metadata": {
        "id": "NpbIXtusuGOn"
      },
      "execution_count": null,
      "outputs": []
    },
    {
      "cell_type": "code",
      "source": [
        "dls.loss_func"
      ],
      "metadata": {
        "id": "dcq0GrdSuelE"
      },
      "execution_count": null,
      "outputs": []
    },
    {
      "cell_type": "code",
      "source": [
        "\n",
        "learn.lr_find()"
      ],
      "metadata": {
        "id": "hHCCVcnGufOs"
      },
      "execution_count": null,
      "outputs": []
    },
    {
      "cell_type": "code",
      "source": [
        "lr = 1e-2\n",
        "learn.fine_tune(3, lr)"
      ],
      "metadata": {
        "id": "JErIQR6_uiGF"
      },
      "execution_count": null,
      "outputs": []
    },
    {
      "cell_type": "code",
      "source": [
        "\n",
        "math.sqrt(0.0001)"
      ],
      "metadata": {
        "id": "rRAELT3kukcg"
      },
      "execution_count": null,
      "outputs": []
    },
    {
      "cell_type": "code",
      "source": [
        "learn.show_results(ds_idx=1, nrows=3, figsize=(6,8))"
      ],
      "metadata": {
        "id": "hL5eenxgum3t"
      },
      "execution_count": null,
      "outputs": []
    }
  ]
}